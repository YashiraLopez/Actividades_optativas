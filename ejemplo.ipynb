{
 "cells": [
  {
   "cell_type": "markdown",
   "metadata": {},
   "source": [
    "# Mi primer Norebook!"
   ]
  },
  {
   "cell_type": "markdown",
   "metadata": {},
   "source": [
    "2do B. López Lago Yashira"
   ]
  },
  {
   "cell_type": "code",
   "execution_count": 1,
   "metadata": {},
   "outputs": [
    {
     "name": "stdout",
     "output_type": "stream",
     "text": [
      "Hola Mundo\n"
     ]
    }
   ],
   "source": [
    "print(\"Hola Mundo\")"
   ]
  },
  {
   "cell_type": "markdown",
   "metadata": {},
   "source": [
    "## Mis primeros descriptivos con Pandas"
   ]
  },
  {
   "cell_type": "markdown",
   "metadata": {},
   "source": [
    "Importa la librería pandas y la asigna al alias \"pd\" para su uso."
   ]
  },
  {
   "cell_type": "code",
   "execution_count": 2,
   "metadata": {},
   "outputs": [],
   "source": [
    "import pandas"
   ]
  },
  {
   "cell_type": "markdown",
   "metadata": {},
   "source": [
    "`datos`: Variable que almacena datos.  \n",
    "`df`: Abreviatura común de \"DataFrame\".  \n",
    "`pd.DataFrame`: Crea un DataFrame con pandas."
   ]
  },
  {
   "cell_type": "code",
   "execution_count": 6,
   "metadata": {},
   "outputs": [],
   "source": [
    "# Se crea un diccionario con claves 'edad' y 'peso' y listas de valores asociados.\n",
    "datos = {\n",
    "    'edad' : [8, 9, 10, 11, 11],\n",
    "    'peso' : [30, 32, 35, 37, 40]\n",
    "}\n",
    "# Se crea un DataFrame a partir del diccionario 'datos' usando pandas.\n",
    "df = pandas.DataFrame(datos)\n",
    "# 'df' es un DataFrame con las columnas 'edad' y 'peso'"
   ]
  },
  {
   "cell_type": "markdown",
   "metadata": {},
   "source": [
    "`mean`: Calcula la media de un conjunto de datos.  \n",
    "`std`: Calcula la desviación estándar.  \n",
    "`print`: Muestra información en la consola."
   ]
  },
  {
   "cell_type": "code",
   "execution_count": 5,
   "metadata": {},
   "outputs": [
    {
     "name": "stdout",
     "output_type": "stream",
     "text": [
      "Media de Edad: 9.8\n",
      "Desviacion Tipica de Edad: 1.3038404810405297\n",
      "Media de Edad: 34.8\n",
      "Desviacion Tipica de Edad: 3.9623225512317903\n"
     ]
    }
   ],
   "source": [
    "# Calcula la media de la columna 'edad' del DataFrame 'df'.\n",
    "media_edad = df['edad'].mean()  # media_edad guarda el valor promedio de la edad\n",
    "# Calcula la desviación estándar de la columna 'edad' del DataFrame 'df'.\n",
    "desviacion_tipica_edad = df['edad'].std() # desviacion_tipica_edad guarda la desviación típica de la edad\n",
    "# Calcula la media de la columna 'peso' del DataFrame 'df'.\n",
    "media_peso = df['peso'].mean()# media_peso guarda el valor promedio del peso\n",
    "# Calcula la desviación estándar de la columna 'peso' del DataFrame 'df'.\n",
    "desviacion_tipica_peso = df['peso'].std() # desviacion_tipica_peso guarda la desviación típica del peso\n",
    "\n",
    "# Muestra la media y la desviación típica de la edad.\n",
    "print(\"Media de Edad:\", media_edad) # Imprime el valor de la media de la edad\n",
    "print(\"Desviacion Tipica de Edad:\", desviacion_tipica_edad) # Imprime la desviación estándar de la edad\n",
    "# Muestra la media y la desviación típica del peso.\n",
    "print(\"Media de Edad:\", media_peso) # Imprime el valor de la media del peso\n",
    "print(\"Desviacion Tipica de Edad:\", desviacion_tipica_peso) # Imprime la desviación estándar del peso\n"
   ]
  }
 ],
 "metadata": {
  "kernelspec": {
   "display_name": "Python 3",
   "language": "python",
   "name": "python3"
  },
  "language_info": {
   "codemirror_mode": {
    "name": "ipython",
    "version": 3
   },
   "file_extension": ".py",
   "mimetype": "text/x-python",
   "name": "python",
   "nbconvert_exporter": "python",
   "pygments_lexer": "ipython3",
   "version": "3.11.9"
  }
 },
 "nbformat": 4,
 "nbformat_minor": 2
}
